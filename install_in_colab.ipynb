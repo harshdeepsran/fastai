
!pip install -q condacolab
import condacolab
condacolab.install()

#after installing conda, run the below commmand for installing fastai from 2 channels: fastai & pytorch
!conda install -c fastai -c pytorch fastai
#or use
!pip install fastbook
